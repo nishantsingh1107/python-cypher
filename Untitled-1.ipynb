{
 "cells": [
  {
   "cell_type": "code",
   "execution_count": null,
   "metadata": {},
   "outputs": [],
   "source": [
    "x='john'#garden 2 or gllobal variable\n",
    "\n",
    "def myfunc():#campus\n",
    "    y='peter'#local variable\n",
    "    print(\"my name is \"+x)\n",
    "    \n",
    "myfunc()\n",
    "print(\"my name is \"+y)"
   ]
  }
 ],
 "metadata": {
  "language_info": {
   "name": "python"
  },
  "orig_nbformat": 4
 },
 "nbformat": 4,
 "nbformat_minor": 2
}
